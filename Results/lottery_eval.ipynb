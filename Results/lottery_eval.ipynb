##############################################
0.05 compression ratio, 2 train-prune levels
Top1 Accuracy:  88.56
Time:  0.7426261589862406
Parameter Sparsity: 13119513/14719818 (0.8913)
FLOP Sparsity: 291206301/313478154 (0.9290)





##############################################
0.05 compression ratio, 3 train-prune levels
Top1 Accuracy:  88.65
Time:  0.7002086709835567
Parameter Sparsity: 13119513/14719818 (0.8913)
FLOP Sparsity: 290160432/313478154 (0.9256)





##############################################
0.05 compression ratio, 4 train-prune levels
Top1 Accuracy:  89.81
Time:  0.688524596975185
Parameter Sparsity: 13119513/14719818 (0.8913)
FLOP Sparsity: 289306655/313478154 (0.9229)





##############################################
0.1 compression ratio, 2 train-prune levels
Top1 Accuracy:  89.15
Time:  0.6461811800254509
Parameter Sparsity: 11693236/14719818 (0.7944)
FLOP Sparsity: 271328043/313478154 (0.8655)





##############################################
0.1 compression ratio, 3 train-prune levels
Top1 Accuracy:  88.65
Time:  0.6337619450059719
Parameter Sparsity: 11693237/14719818 (0.7944)
FLOP Sparsity: 269978550/313478154 (0.8612)





##############################################
0.1 compression ratio, 4 train-prune levels
Top1 Accuracy:  89.06
Time:  0.6526846549822949
Parameter Sparsity: 11693237/14719818 (0.7944)
FLOP Sparsity: 268348804/313478154 (0.8560)





##############################################
0.2 compression ratio, 2 train-prune levels
Top1 Accuracy:  88.84
Time:  0.6379275030340068
Parameter Sparsity: 9289140/14719818 (0.6311)
FLOP Sparsity: 237124342/313478154 (0.7564)





##############################################
0.2 compression ratio, 3 train-prune levels
Top1 Accuracy:  89.2
Time:  0.6549057950032875
Parameter Sparsity: 9289140/14719818 (0.6311)
FLOP Sparsity: 235275627/313478154 (0.7505)





##############################################
0.2 compression ratio, 4 train-prune levels
Top1 Accuracy:  89.69
Time:  0.6656641209847294
Parameter Sparsity: 9289138/14719818 (0.6311)
FLOP Sparsity: 232417138/313478154 (0.7414)





##############################################
0.5 compression ratio, 2 train-prune levels
Top1 Accuracy:  89.14
Time:  0.7395466209854931
Parameter Sparsity: 4657711/14719818 (0.3164)
FLOP Sparsity: 162651231/313478154 (0.5189)





##############################################
0.5 compression ratio, 3 train-prune levels
Top1 Accuracy:  89.37
Time:  0.6715831360197626
Parameter Sparsity: 4657711/14719818 (0.3164)
FLOP Sparsity: 160648071/313478154 (0.5125)





##############################################
0.5 compression ratio, 4 train-prune levels
